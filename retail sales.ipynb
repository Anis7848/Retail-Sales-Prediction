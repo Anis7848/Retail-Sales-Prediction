{
 "cells": [
  {
   "cell_type": "code",
   "id": "e90ea5f9-ca00-47f1-9449-236abcf6cb8d",
   "metadata": {
    "jupyter": {
     "is_executing": true
    }
   },
   "source": [
    "import pandas as pd\n",
    "import numpy as np\n",
    "import seaborn as sns\n",
    "import plotly.express as px\n",
    "import matplotlib.pyplot as plt\n",
    "from sklearn.model_selection import train_test_split\n",
    "from sklearn.tree import DecisionTreeRegressor\n",
    "import warnings"
   ],
   "outputs": [],
   "execution_count": null
  },
  {
   "cell_type": "code",
   "id": "dba495c7-ce6d-4e2c-a283-8f9194962ced",
   "metadata": {
    "jupyter": {
     "is_executing": true
    }
   },
   "source": [
    "project = pd.read_csv('C:\\\\Users\\\\DELL\\\\anaconda3\\\\Tools\\\\expanded_retail_data.csv')\n",
    "project.head(10)"
   ],
   "outputs": [],
   "execution_count": null
  },
  {
   "cell_type": "code",
   "execution_count": null,
   "id": "9c9541b4-fbec-4730-a47b-72206ee85811",
   "metadata": {},
   "outputs": [],
   "source": [
    "project.info\n"
   ]
  },
  {
   "cell_type": "code",
   "execution_count": null,
   "id": "7fb7153a-e897-4560-bda8-dca75327f68c",
   "metadata": {},
   "outputs": [],
   "source": [
    " project.describe"
   ]
  },
  {
   "cell_type": "code",
   "execution_count": null,
   "id": "971d6892",
   "metadata": {},
   "outputs": [],
   "source": [
    "project.isnull().sum()"
   ]
  },
  {
   "cell_type": "raw",
   "id": "e8d6d950",
   "metadata": {},
   "source": [
    "#print(data.nunique())\n",
    "\n",
    "#Purpose: Checks the number of unique values in each column.\n"
   ]
  },
  {
   "cell_type": "code",
   "execution_count": null,
   "id": "18ec9658",
   "metadata": {},
   "outputs": [],
   "source": [
    "project.nunique()"
   ]
  },
  {
   "cell_type": "code",
   "execution_count": null,
   "id": "8958cfa9",
   "metadata": {},
   "outputs": [],
   "source": [
    "\n",
    "# Assuming 'data' is your DataFrame and it has a 'sales' column\n",
    "\n",
    "# Create the histogram with 30 bins\n",
    "    \n",
    "sns.histplot(project['Total_Amount'], bins=15) \n",
    "\n",
    " # Display the plot\n",
    "    \n",
    "plt.show() \n"
   ]
  },
  {
   "cell_type": "code",
   "execution_count": null,
   "id": "68d99df2",
   "metadata": {},
   "outputs": [],
   "source": []
  }
 ],
 "metadata": {
  "kernelspec": {
   "display_name": "Python 3",
   "language": "python",
   "name": "python3"
  },
  "language_info": {
   "codemirror_mode": {
    "name": "ipython",
    "version": 3
   },
   "file_extension": ".py",
   "mimetype": "text/x-python",
   "name": "python",
   "nbconvert_exporter": "python",
   "pygments_lexer": "ipython3",
   "version": "3.12.2"
  }
 },
 "nbformat": 4,
 "nbformat_minor": 5
}
